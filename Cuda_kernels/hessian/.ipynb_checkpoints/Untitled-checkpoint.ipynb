{
 "cells": [
  {
   "cell_type": "code",
   "execution_count": null,
   "id": "e018c1c7-d16a-4851-b6c8-1a1a12fa06e9",
   "metadata": {},
   "outputs": [],
   "source": []
  },
  {
   "cell_type": "code",
   "execution_count": 10,
   "id": "55d41792-cb87-4a24-be1d-2bf399235b5c",
   "metadata": {},
   "outputs": [],
   "source": [
    "# invert_matrix_gpu([[4.0,3.0],[1.0,2.0]])"
   ]
  },
  {
   "cell_type": "code",
   "execution_count": null,
   "id": "176f0727-8645-40ac-9e1c-accda00fbfd5",
   "metadata": {},
   "outputs": [],
   "source": []
  },
  {
   "cell_type": "code",
   "execution_count": 23,
   "id": "0a9f61bd-29a3-4428-80c3-81b48802164f",
   "metadata": {},
   "outputs": [
    {
     "name": "stdout",
     "output_type": "stream",
     "text": [
      "CPU Result Size: 10000\n",
      "CPU Result Size: 0.5861121704262944\n",
      "GPU Double Precision Result Size: 10000\n",
      "GPU Double Precision Result Size: 0.5861121704262469\n",
      "GPU Float Precision Result Size: 10000\n",
      "GPU Float Precision Result Size: 0.5861104726791382\n"
     ]
    }
   ],
   "source": [
    "import numpy as np\n",
    "from hessian_inversion import cpu_inversion, gpu_inversion\n",
    "\n",
    "def compare_matrices_hybrid(cpu_matrix, gpu_matrix, abs_tolerance=1e-12, rel_tolerance=0.01):\n",
    "    size = len(cpu_matrix)\n",
    "    mismatches = 0\n",
    "    max_abs_diff = 0\n",
    "    max_rel_diff = 0\n",
    "    sum_abs_diff = 0\n",
    "    sum_rel_diff = 0\n",
    "\n",
    "    # Flatten the GPU matrix for comparison\n",
    "    gpu_matrix_flat = np.array(gpu_matrix).flatten()\n",
    "\n",
    "    for i in range(size):\n",
    "        for j in range(size):\n",
    "            cpu_val = cpu_matrix[i][j]\n",
    "            gpu_val = gpu_matrix_flat[i * size + j]\n",
    "            abs_diff = abs(cpu_val - gpu_val)\n",
    "            rel_diff = abs_diff / max(abs(cpu_val), abs(gpu_val)) if (cpu_val != 0 or gpu_val != 0) else 0\n",
    "            \n",
    "            sum_abs_diff += abs_diff\n",
    "            sum_rel_diff += rel_diff\n",
    "\n",
    "            if abs_diff > abs_tolerance and rel_diff > rel_tolerance:\n",
    "                mismatches += 1\n",
    "                max_abs_diff = max(max_abs_diff, abs_diff)\n",
    "                max_rel_diff = max(max_rel_diff, rel_diff)\n",
    "                if mismatches <= 5:  # Limit output to first 5 mismatches\n",
    "                    print(f\"Mismatch at ({i}, {j}): CPU = {cpu_val}, GPU = {gpu_val}, abs diff = {abs_diff}, rel diff = {rel_diff}\")\n",
    "\n",
    "    avg_abs_diff = sum_abs_diff / (size * size)\n",
    "    avg_rel_diff = sum_rel_diff / (size * size)\n",
    "\n",
    "    print(f\"Total mismatches: {mismatches}\")\n",
    "    print(f\"Max absolute difference: {max_abs_diff}\")\n",
    "    print(f\"Max relative difference: {max_rel_diff}\")\n",
    "    print(f\"Average absolute difference: {avg_abs_diff}\")\n",
    "    print(f\"Average relative difference: {avg_rel_diff}\")\n",
    "\n",
    "    return mismatches == 0\n",
    "\n",
    "\n",
    "size = 100\n",
    "# Set a seed for reproducibility\n",
    "np.random.seed(42)\n",
    "\n",
    "# Generate a random matrix\n",
    "matrix = np.random.rand(size, size).tolist()\n",
    "\n",
    "# Test with CPU\n",
    "cpu_result = cpu_inversion(matrix)\n",
    "print(\"CPU Result Size:\", len(cpu_result) * len(cpu_result[0]))\n",
    "print(\"CPU Result Size:\", cpu_result[0][0])\n",
    "\n",
    "# Test with GPU (double precision)\n",
    "gpu_result = gpu_inversion(matrix, precision=\"double\")\n",
    "print(\"GPU Double Precision Result Size:\", len(gpu_result))\n",
    "print(\"GPU Double Precision Result Size:\", gpu_result[0])\n",
    "\n",
    "# Test with GPU (float precision)\n",
    "gpu_result_float = gpu_inversion(matrix, precision=\"float\")\n",
    "print(\"GPU Float Precision Result Size:\", len(gpu_result_float))\n",
    "print(\"GPU Float Precision Result Size:\", gpu_result_float[0])\n",
    "\n",
    "# print(\"**\" * 100)\n",
    "# # Compare CPU and GPU results\n",
    "# is_equal_double = compare_matrices_hybrid(cpu_result, gpu_result)\n",
    "# print(\"Are the CPU and GPU results equal (double precision)?\", is_equal_double)\n",
    "# print(\"##\" * 100)\n",
    "# is_equal_float = compare_matrices_hybrid(cpu_result, gpu_result_float)\n",
    "# print(\"Are the CPU and GPU results equal (float precision)?\", is_equal_float)\n"
   ]
  },
  {
   "cell_type": "code",
   "execution_count": null,
   "id": "b8416c4c-4281-486a-97dd-b959b2199d2d",
   "metadata": {},
   "outputs": [],
   "source": []
  },
  {
   "cell_type": "code",
   "execution_count": null,
   "id": "2c728a90-5147-43bc-99e7-6b20aca03149",
   "metadata": {},
   "outputs": [],
   "source": []
  }
 ],
 "metadata": {
  "kernelspec": {
   "display_name": "tata",
   "language": "python",
   "name": "tata"
  },
  "language_info": {
   "codemirror_mode": {
    "name": "ipython",
    "version": 3
   },
   "file_extension": ".py",
   "mimetype": "text/x-python",
   "name": "python",
   "nbconvert_exporter": "python",
   "pygments_lexer": "ipython3",
   "version": "3.9.0"
  }
 },
 "nbformat": 4,
 "nbformat_minor": 5
}
